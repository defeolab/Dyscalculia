{
 "cells": [
  {
   "cell_type": "code",
   "execution_count": 3,
   "metadata": {},
   "outputs": [],
   "source": [
    "import mysql.connector\n",
    "import pandas as pd"
   ]
  },
  {
   "cell_type": "code",
   "execution_count": 4,
   "metadata": {},
   "outputs": [],
   "source": [
    "cn = mysql.connector.connect(user='root', password='12342234',\n",
    "                                      host='127.0.0.1',\n",
    "                                      database='dyscalculia')"
   ]
  },
  {
   "cell_type": "code",
   "execution_count": 5,
   "metadata": {},
   "outputs": [],
   "source": [
    "cursor = cn.cursor(buffered=True)"
   ]
  },
  {
   "cell_type": "code",
   "execution_count": 6,
   "metadata": {},
   "outputs": [],
   "source": [
    "cursor.execute((\"SELECT * FROM trial_result_new;\"))\n",
    "rows = cursor.fetchall()\n",
    "\n",
    "cn.commit()\n",
    "cn.close()"
   ]
  },
  {
   "cell_type": "code",
   "execution_count": 10,
   "metadata": {},
   "outputs": [],
   "source": [
    "headers = [i[0] for i in cursor.description]"
   ]
  },
  {
   "cell_type": "code",
   "execution_count": 7,
   "metadata": {},
   "outputs": [],
   "source": [
    "df = pd.DataFrame(rows)"
   ]
  },
  {
   "cell_type": "code",
   "execution_count": 11,
   "metadata": {},
   "outputs": [],
   "source": [
    "df.columns = headers"
   ]
  },
  {
   "cell_type": "code",
   "execution_count": 12,
   "metadata": {},
   "outputs": [
    {
     "data": {
      "text/html": [
       "<div>\n",
       "<style scoped>\n",
       "    .dataframe tbody tr th:only-of-type {\n",
       "        vertical-align: middle;\n",
       "    }\n",
       "\n",
       "    .dataframe tbody tr th {\n",
       "        vertical-align: top;\n",
       "    }\n",
       "\n",
       "    .dataframe thead th {\n",
       "        text-align: right;\n",
       "    }\n",
       "</style>\n",
       "<table border=\"1\" class=\"dataframe\">\n",
       "  <thead>\n",
       "    <tr style=\"text-align: right;\">\n",
       "      <th></th>\n",
       "      <th>trial_result_id</th>\n",
       "      <th>player_id</th>\n",
       "      <th>correct</th>\n",
       "      <th>decision_time</th>\n",
       "      <th>area_1_circle_radius</th>\n",
       "      <th>area_1_size_of_chicken</th>\n",
       "      <th>area_1_average_space_between</th>\n",
       "      <th>area_1_number_of_chickens</th>\n",
       "      <th>area_2_circle_radius</th>\n",
       "      <th>area_2_size_of_chicken</th>\n",
       "      <th>area_2_average_space_between</th>\n",
       "      <th>area_2_number_of_chickens</th>\n",
       "      <th>chicken_show_time</th>\n",
       "      <th>created</th>\n",
       "    </tr>\n",
       "  </thead>\n",
       "  <tbody>\n",
       "    <tr>\n",
       "      <th>0</th>\n",
       "      <td>1</td>\n",
       "      <td>1</td>\n",
       "      <td>1</td>\n",
       "      <td>418</td>\n",
       "      <td>0.95</td>\n",
       "      <td>8.50</td>\n",
       "      <td>1.60</td>\n",
       "      <td>9</td>\n",
       "      <td>0.50</td>\n",
       "      <td>8.50</td>\n",
       "      <td>1.60</td>\n",
       "      <td>1</td>\n",
       "      <td>4.00</td>\n",
       "      <td>2022-08-09 13:52:50</td>\n",
       "    </tr>\n",
       "    <tr>\n",
       "      <th>1</th>\n",
       "      <td>2</td>\n",
       "      <td>1</td>\n",
       "      <td>1</td>\n",
       "      <td>333</td>\n",
       "      <td>0.50</td>\n",
       "      <td>8.50</td>\n",
       "      <td>1.60</td>\n",
       "      <td>1</td>\n",
       "      <td>0.95</td>\n",
       "      <td>8.50</td>\n",
       "      <td>1.60</td>\n",
       "      <td>9</td>\n",
       "      <td>4.00</td>\n",
       "      <td>2022-08-09 13:52:50</td>\n",
       "    </tr>\n",
       "    <tr>\n",
       "      <th>2</th>\n",
       "      <td>3</td>\n",
       "      <td>1</td>\n",
       "      <td>1</td>\n",
       "      <td>109</td>\n",
       "      <td>0.95</td>\n",
       "      <td>8.00</td>\n",
       "      <td>1.52</td>\n",
       "      <td>9</td>\n",
       "      <td>0.50</td>\n",
       "      <td>8.00</td>\n",
       "      <td>1.52</td>\n",
       "      <td>1</td>\n",
       "      <td>4.00</td>\n",
       "      <td>2022-08-09 13:52:50</td>\n",
       "    </tr>\n",
       "  </tbody>\n",
       "</table>\n",
       "</div>"
      ],
      "text/plain": [
       "   trial_result_id  player_id  correct  decision_time area_1_circle_radius  \\\n",
       "0                1          1        1            418                 0.95   \n",
       "1                2          1        1            333                 0.50   \n",
       "2                3          1        1            109                 0.95   \n",
       "\n",
       "  area_1_size_of_chicken area_1_average_space_between  \\\n",
       "0                   8.50                         1.60   \n",
       "1                   8.50                         1.60   \n",
       "2                   8.00                         1.52   \n",
       "\n",
       "   area_1_number_of_chickens area_2_circle_radius area_2_size_of_chicken  \\\n",
       "0                          9                 0.50                   8.50   \n",
       "1                          1                 0.95                   8.50   \n",
       "2                          9                 0.50                   8.00   \n",
       "\n",
       "  area_2_average_space_between  area_2_number_of_chickens chicken_show_time  \\\n",
       "0                         1.60                          1              4.00   \n",
       "1                         1.60                          9              4.00   \n",
       "2                         1.52                          1              4.00   \n",
       "\n",
       "              created  \n",
       "0 2022-08-09 13:52:50  \n",
       "1 2022-08-09 13:52:50  \n",
       "2 2022-08-09 13:52:50  "
      ]
     },
     "execution_count": 12,
     "metadata": {},
     "output_type": "execute_result"
    }
   ],
   "source": [
    "df.to_csv(\"trials_data.csv\", index=False)"
   ]
  }
 ],
 "metadata": {
  "kernelspec": {
   "display_name": "Python 3.9.13 64-bit",
   "language": "python",
   "name": "python3"
  },
  "language_info": {
   "codemirror_mode": {
    "name": "ipython",
    "version": 3
   },
   "file_extension": ".py",
   "mimetype": "text/x-python",
   "name": "python",
   "nbconvert_exporter": "python",
   "pygments_lexer": "ipython3",
   "version": "3.9.13"
  },
  "orig_nbformat": 4,
  "vscode": {
   "interpreter": {
    "hash": "41c93ed0c99af67a4982509ef2af2e798a262fd6455f21c6ba77df229cd93d61"
   }
  }
 },
 "nbformat": 4,
 "nbformat_minor": 2
}
