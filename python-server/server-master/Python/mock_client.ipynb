{
  "cells": [
    {
      "cell_type": "code",
      "execution_count": 1,
      "metadata": {
        "colab": {
          "base_uri": "https://localhost:8080/",
          "height": 411
        },
        "id": "FxHEsKc4SbEh",
        "outputId": "715c18f7-0d05-4fa7-d336-b80a96a090b2"
      },
      "outputs": [],
      "source": [
        "# run this notebook (possibly on a google colab instance) to simulate a client trying to access the server remotely through the internet\n",
        "# this works only when my (Franco) machine is running the server.\n",
        "\n",
        "#alternatively use the localhost to just simulate client interaction with local client and server\n",
        "\n",
        "import socket\n",
        "\n",
        "import time\n",
        "\n",
        "HOST = \"87.18.102.77\"  # Ip address\n",
        "PORT = 51831  # Port that forwards to the right server socket of my machine\n",
        "\n",
        "HOST = \"192.168.1.137\"\n",
        "PORT = 65432\n",
        "running = True\n",
        "\n",
        "n= 1\n",
        "\n",
        "with socket.socket(socket.AF_INET, socket.SOCK_STREAM) as s:\n",
        "    s.connect((HOST, PORT))\n",
        "    for i in range(0, n):\n",
        "      s.sendall(b\"TRIALS:\")\n",
        "      data = s.recv(2048)\n",
        "\n",
        "      print(f\"Received {data}\")\n",
        "\n",
        "      time.sleep(1)\n",
        "\n",
        "      mockResponse = 'COMPLETE:{\"results\":[{\"DecisionTime\":719.0502,\"Correct\":true,\"TrialData\":{\"area1Data\":{\"circleRadius\":0.75,\"sizeOfChicken\":2.5002152919769289,\"averageSpaceBetween\":0.6000000238418579,\"numberOfChickens\":45},\"area2Data\":{\"circleRadius\":0.699999988079071,\"sizeOfChicken\":2.5002152919769289,\"averageSpaceBetween\":0.6000000238418579,\"numberOfChickens\":37},\"chickenShowTime\":4.0,\"maxTrialTime\":8.0}}]}'\n",
        "      s.send(str.encode(mockResponse))\n",
        "      data = s.recv(2048)\n",
        "      #print(f\"Received {data}\")\n",
        "    \n",
        "    s.send(str.encode(\"END:\"))\n",
        "    \n",
        "print(f\"Received {data!r}\")"
      ]
    }
  ],
  "metadata": {
    "colab": {
      "provenance": []
    },
    "kernelspec": {
      "display_name": "Python 3.10.1 64-bit",
      "language": "python",
      "name": "python3"
    },
    "language_info": {
      "codemirror_mode": {
        "name": "ipython",
        "version": 3
      },
      "file_extension": ".py",
      "mimetype": "text/x-python",
      "name": "python",
      "nbconvert_exporter": "python",
      "pygments_lexer": "ipython3",
      "version": "3.10.1"
    },
    "vscode": {
      "interpreter": {
        "hash": "cef666fe899b9fb0a0eef44b04aee0b96e2cf67f4acde4cc6010a5fee1e2a40c"
      }
    }
  },
  "nbformat": 4,
  "nbformat_minor": 0
}
