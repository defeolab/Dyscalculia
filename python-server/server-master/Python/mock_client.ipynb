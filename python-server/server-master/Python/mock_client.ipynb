{
  "cells": [
    {
      "cell_type": "code",
      "execution_count": 1,
      "metadata": {
        "colab": {
          "base_uri": "https://localhost:8080/",
          "height": 411
        },
        "id": "FxHEsKc4SbEh",
        "outputId": "715c18f7-0d05-4fa7-d336-b80a96a090b2"
      },
      "outputs": [
        {
          "name": "stdout",
          "output_type": "stream",
          "text": [
            "Received b'[{\"area1Data\": {\"circleRadius\": 0.6999999714285708, \"sizeOfChicken\": 5.000105498886998, \"averageSpaceBetween\": 1.0180176183141287, \"numberOfChickens\": 13.0}, \"area2Data\": {\"circleRadius\": 0.9, \"sizeOfChicken\": 4.500112998581257, \"averageSpaceBetween\": 0.93451887076307, \"numberOfChickens\": 25.0}, \"chickenShowTime\": 4, \"maxTrialTime\": 8}]\\n'\n",
            "Received b'SUCCESS\\n'\n",
            "Received b'[{\"area1Data\": {\"circleRadius\": 0.6999999714285708, \"sizeOfChicken\": 5.000105498886998, \"averageSpaceBetween\": 1.0180176183141287, \"numberOfChickens\": 13.0}, \"area2Data\": {\"circleRadius\": 0.9, \"sizeOfChicken\": 4.500112998581257, \"averageSpaceBetween\": 0.93451887076307, \"numberOfChickens\": 25.0}, \"chickenShowTime\": 4, \"maxTrialTime\": 8},{\"area1Data\": {\"circleRadius\": 0.6, \"sizeOfChicken\": 9.000045499884987, \"averageSpaceBetween\": 1.686007598480793, \"numberOfChickens\": 1.0}, \"area2Data\": {\"circleRadius\": 0.8499999058823478, \"sizeOfChicken\": 4.500112998581257, \"averageSpaceBetween\": 0.93451887076307, \"numberOfChickens\": 21.0}, \"chickenShowTime\": 4, \"maxTrialTime\": 8}]\\n'\n"
          ]
        },
        {
          "ename": "KeyboardInterrupt",
          "evalue": "",
          "output_type": "error",
          "traceback": [
            "\u001b[1;31m---------------------------------------------------------------------------\u001b[0m",
            "\u001b[1;31mKeyboardInterrupt\u001b[0m                         Traceback (most recent call last)",
            "Cell \u001b[1;32mIn [1], line 27\u001b[0m\n\u001b[0;32m     23\u001b[0m data \u001b[39m=\u001b[39m s\u001b[39m.\u001b[39mrecv(\u001b[39m2048\u001b[39m)\n\u001b[0;32m     25\u001b[0m \u001b[39mprint\u001b[39m(\u001b[39mf\u001b[39m\u001b[39m\"\u001b[39m\u001b[39mReceived \u001b[39m\u001b[39m{\u001b[39;00mdata\u001b[39m}\u001b[39;00m\u001b[39m\"\u001b[39m)\n\u001b[1;32m---> 27\u001b[0m time\u001b[39m.\u001b[39;49msleep(\u001b[39m1\u001b[39;49m)\n\u001b[0;32m     29\u001b[0m mockResponse \u001b[39m=\u001b[39m \u001b[39m'\u001b[39m\u001b[39mCOMPLETE:\u001b[39m\u001b[39m{\u001b[39m\u001b[39m\"\u001b[39m\u001b[39mresults\u001b[39m\u001b[39m\"\u001b[39m\u001b[39m:[\u001b[39m\u001b[39m{\u001b[39m\u001b[39m\"\u001b[39m\u001b[39mDecisionTime\u001b[39m\u001b[39m\"\u001b[39m\u001b[39m:719.0502,\u001b[39m\u001b[39m\"\u001b[39m\u001b[39mCorrect\u001b[39m\u001b[39m\"\u001b[39m\u001b[39m:true,\u001b[39m\u001b[39m\"\u001b[39m\u001b[39mTrialData\u001b[39m\u001b[39m\"\u001b[39m\u001b[39m:\u001b[39m\u001b[39m{\u001b[39m\u001b[39m\"\u001b[39m\u001b[39marea1Data\u001b[39m\u001b[39m\"\u001b[39m\u001b[39m:\u001b[39m\u001b[39m{\u001b[39m\u001b[39m\"\u001b[39m\u001b[39mcircleRadius\u001b[39m\u001b[39m\"\u001b[39m\u001b[39m:0.75,\u001b[39m\u001b[39m\"\u001b[39m\u001b[39msizeOfChicken\u001b[39m\u001b[39m\"\u001b[39m\u001b[39m:2.5002152919769289,\u001b[39m\u001b[39m\"\u001b[39m\u001b[39maverageSpaceBetween\u001b[39m\u001b[39m\"\u001b[39m\u001b[39m:0.6000000238418579,\u001b[39m\u001b[39m\"\u001b[39m\u001b[39mnumberOfChickens\u001b[39m\u001b[39m\"\u001b[39m\u001b[39m:45},\u001b[39m\u001b[39m\"\u001b[39m\u001b[39marea2Data\u001b[39m\u001b[39m\"\u001b[39m\u001b[39m:\u001b[39m\u001b[39m{\u001b[39m\u001b[39m\"\u001b[39m\u001b[39mcircleRadius\u001b[39m\u001b[39m\"\u001b[39m\u001b[39m:0.699999988079071,\u001b[39m\u001b[39m\"\u001b[39m\u001b[39msizeOfChicken\u001b[39m\u001b[39m\"\u001b[39m\u001b[39m:2.5002152919769289,\u001b[39m\u001b[39m\"\u001b[39m\u001b[39maverageSpaceBetween\u001b[39m\u001b[39m\"\u001b[39m\u001b[39m:0.6000000238418579,\u001b[39m\u001b[39m\"\u001b[39m\u001b[39mnumberOfChickens\u001b[39m\u001b[39m\"\u001b[39m\u001b[39m:37},\u001b[39m\u001b[39m\"\u001b[39m\u001b[39mchickenShowTime\u001b[39m\u001b[39m\"\u001b[39m\u001b[39m:4.0,\u001b[39m\u001b[39m\"\u001b[39m\u001b[39mmaxTrialTime\u001b[39m\u001b[39m\"\u001b[39m\u001b[39m:8.0}}]}\u001b[39m\u001b[39m'\u001b[39m\n\u001b[0;32m     30\u001b[0m s\u001b[39m.\u001b[39msend(\u001b[39mstr\u001b[39m\u001b[39m.\u001b[39mencode(mockResponse))\n",
            "\u001b[1;31mKeyboardInterrupt\u001b[0m: "
          ]
        }
      ],
      "source": [
        "# run this notebook (possibly on a google colab instance) to simulate a client trying to access the server remotely through the internet\n",
        "# this works only when my (Franco) machine is running the server.\n",
        "\n",
        "#alternatively use the localhost to just simulate client interaction with local client and server\n",
        "\n",
        "import socket\n",
        "\n",
        "import time\n",
        "\n",
        "HOST = \"87.18.102.77\"  # Ip address\n",
        "PORT = 51831  # Port that forwards to the right server socket of my machine\n",
        "\n",
        "HOST = \"127.0.0.1\"\n",
        "PORT = 65432\n",
        "running = True\n",
        "\n",
        "n= 30\n",
        "\n",
        "with socket.socket(socket.AF_INET, socket.SOCK_STREAM) as s:\n",
        "    s.connect((HOST, PORT))\n",
        "    for i in range(0, n):\n",
        "      s.sendall(b\"TRIALS:\")\n",
        "      data = s.recv(2048)\n",
        "\n",
        "      print(f\"Received {data}\")\n",
        "\n",
        "      time.sleep(1)\n",
        "\n",
        "      mockResponse = 'COMPLETE:{\"results\":[{\"DecisionTime\":719.0502,\"Correct\":true,\"TrialData\":{\"area1Data\":{\"circleRadius\":0.75,\"sizeOfChicken\":2.5002152919769289,\"averageSpaceBetween\":0.6000000238418579,\"numberOfChickens\":45},\"area2Data\":{\"circleRadius\":0.699999988079071,\"sizeOfChicken\":2.5002152919769289,\"averageSpaceBetween\":0.6000000238418579,\"numberOfChickens\":37},\"chickenShowTime\":4.0,\"maxTrialTime\":8.0}}]}'\n",
        "      s.send(str.encode(mockResponse))\n",
        "      data = s.recv(2048)\n",
        "      print(f\"Received {data}\")\n",
        "    \n",
        "    s.send(str.encode(\"END:\"))\n",
        "    \n",
        "print(f\"Received {data!r}\")"
      ]
    }
  ],
  "metadata": {
    "colab": {
      "provenance": []
    },
    "kernelspec": {
      "display_name": "Python 3.10.1 64-bit",
      "language": "python",
      "name": "python3"
    },
    "language_info": {
      "codemirror_mode": {
        "name": "ipython",
        "version": 3
      },
      "file_extension": ".py",
      "mimetype": "text/x-python",
      "name": "python",
      "nbconvert_exporter": "python",
      "pygments_lexer": "ipython3",
      "version": "3.10.1"
    },
    "vscode": {
      "interpreter": {
        "hash": "cef666fe899b9fb0a0eef44b04aee0b96e2cf67f4acde4cc6010a5fee1e2a40c"
      }
    }
  },
  "nbformat": 4,
  "nbformat_minor": 0
}
