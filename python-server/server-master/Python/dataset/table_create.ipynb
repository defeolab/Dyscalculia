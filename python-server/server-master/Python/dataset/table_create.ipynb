{
 "cells": [
  {
   "cell_type": "code",
   "execution_count": 3,
   "metadata": {},
   "outputs": [
    {
     "name": "stdout",
     "output_type": "stream",
     "text": [
      "   NumChickens FieldArea ItemSurfaceArea\n",
      "0           21      5625           19,24\n",
      "1           21   6944,44           19,24\n",
      "2           21   8402,78           19,24\n"
     ]
    }
   ],
   "source": [
    "import pandas\n",
    "import itertools as it\n",
    "lookup_table = pandas.read_csv(\"./legacy/valid_values.csv\", sep = \";\")\n",
    "\n",
    "print(lookup_table[0:3])"
   ]
  },
  {
   "cell_type": "code",
   "execution_count": 10,
   "metadata": {},
   "outputs": [
    {
     "name": "stdout",
     "output_type": "stream",
     "text": [
      "0\n",
      "NumChickens           21\n",
      "FieldArea           5625\n",
      "ItemSurfaceArea    19,24\n",
      "Name: 0, dtype: object\n"
     ]
    }
   ],
   "source": [
    "lookup_table.reset_index()\n",
    "for i, data in lookup_table.iterrows():\n",
    "    if i > 0:\n",
    "        break\n",
    "    print(i)\n",
    "    print(data)\n",
    "    "
   ]
  },
  {
   "cell_type": "code",
   "execution_count": 4,
   "metadata": {},
   "outputs": [],
   "source": [
    "from typing import Tuple, List\n",
    "import math\n",
    "import numpy as np\n",
    "def compute_canonical_parameters(n_chickens: int, field_area: float, chicken_size: float) -> Tuple[float, float, float, float]:\n",
    "    FA = (((0.006) * math.sqrt(field_area))**2)*math.pi\n",
    "    \n",
    "\n",
    "def compute_nd_nnd_coords(trial_left: List[float], trial_right: List[float]) -> Tuple[float, float]:\n",
    "    #formula specified by previous thesis writers\n",
    "    #NND = (0.577+0.467∗Number)∗(FA/Number) +(0.487+0.473∗Number)∗ISA\n",
    "    nnd_right = (0.577+0.467*trial_right[0])*(trial_right[1]/trial_right[0]) + (0.487+0.473*trial_right[0])*trial_right[2]\n",
    "    nnd_left = (0.577+0.467*trial_left[0])*(trial_left[1]/trial_left[0]) + (0.487+0.473*trial_left[0])*trial_left[2]\n",
    "\n",
    "    return np.log10(trial_right[0]/trial_left[0]), np.log10(nnd_right/nnd_left)"
   ]
  },
  {
   "cell_type": "code",
   "execution_count": 54,
   "metadata": {},
   "outputs": [],
   "source": [
    "import random\n",
    "data = {}\n",
    "columns = [\"Unnamed\",\"NumLeft\",\"FieldAreaLeft\",\"ItemSurfaceAreaLeft\",\"NumRight\",\"FieldAreaRight\",\"ItemSurfaceAreaRight\",\"Ratio L/R\",\"LogRatio\",\"Log - Normalized\",\"Difficulty Coefficient\",\"Diff_coeff_filtering\", \"nd_LogRatio\", \"nnd_LogRatio\"]\n",
    "\n",
    "for c in columns:\n",
    "    data[c] = []\n",
    "i=0\n",
    "for (ileft, dleft), (iright,dright) in it.combinations(lookup_table.sample(frac=1.0).iterrows(), 2):\n",
    "    if dleft[0] == dright[0]:\n",
    "        continue\n",
    "    fAreaLeft = float(dleft[1].replace(\",\", \".\"))\n",
    "    fAreaRight = float(dright[1].replace(\",\", \".\"))\n",
    "    iAreaLeft = float(dleft[2].replace(\",\", \".\"))\n",
    "    iAreaRight = float(dright[2].replace(\",\", \".\"))\n",
    "\n",
    "    data[\"Unnamed\"].append(i) \n",
    "    data[\"NumLeft\"].append(dleft[0])\n",
    "    data[\"FieldAreaLeft\"].append(fAreaLeft)\n",
    "    data[\"ItemSurfaceAreaLeft\"].append(iAreaLeft)\n",
    "    data[\"NumRight\"].append(dright[0])\n",
    "    data[\"FieldAreaRight\"].append(fAreaRight)\n",
    "    data[\"ItemSurfaceAreaRight\"].append(iAreaRight)\n",
    "\n",
    "    #nd and nnd coords, should be relevant for any kind of implemented ai \n",
    "    nd_logratio, nnd_logratio = compute_nd_nnd_coords([int(dleft[0]), fAreaLeft,iAreaLeft], [int(dright[0]), fAreaRight, iAreaRight])\n",
    "    data[\"nd_LogRatio\"].append(nd_logratio)\n",
    "    data[\"nnd_LogRatio\"].append(nnd_logratio)\n",
    "\n",
    "    #old statistics, computed for backward compatibility\n",
    "    data[\"Ratio L/R\"].append(round((dleft[0]/dright[0]),2))\n",
    "    data[\"LogRatio\"].append(round(np.log10(round((dleft[0]/dright[0]),2)),2))\n",
    "    data[\"Log - Normalized\"].append(round(np.log10(round((dleft[0]/dright[0]),2)),2))\n",
    "    data[\"Difficulty Coefficient\"].append(round(random.uniform(0, 1), 2))\n",
    "    data[\"Diff_coeff_filtering\"].append(round(random.uniform(0,1), 2))\n",
    "\n",
    "    "
   ]
  },
  {
   "cell_type": "code",
   "execution_count": 55,
   "metadata": {},
   "outputs": [
    {
     "name": "stdout",
     "output_type": "stream",
     "text": [
      "       Unnamed  NumLeft  FieldAreaLeft  ItemSurfaceAreaLeft  NumRight  \\\n",
      "0            0       37       20069.44                37.70         9   \n",
      "1            0       37       20069.44                37.70        21   \n",
      "2            0       37       20069.44                37.70        13   \n",
      "3            0       37       20069.44                37.70         9   \n",
      "4            0       37       20069.44                37.70         5   \n",
      "...        ...      ...            ...                  ...       ...   \n",
      "27834        0       37       22500.00                37.70       112   \n",
      "27835        0       37       22500.00                37.70        45   \n",
      "27836        0       37       25069.44                49.25       112   \n",
      "27837        0       37       25069.44                49.25        45   \n",
      "27838        0      112       40000.00                19.24        45   \n",
      "\n",
      "       FieldAreaRight  ItemSurfaceAreaRight  Ratio L/R  LogRatio  \\\n",
      "0            22500.00                196.98       4.11      0.61   \n",
      "1            27777.78                 93.11       1.76      0.25   \n",
      "2            25069.44                150.82       2.85      0.45   \n",
      "3            10000.00                 76.95       4.11      0.61   \n",
      "4            11736.11                277.78       7.40      0.87   \n",
      "...               ...                   ...        ...       ...   \n",
      "27834        40000.00                 19.24       0.33     -0.48   \n",
      "27835        22500.00                 27.70       0.82     -0.09   \n",
      "27836        40000.00                 19.24       0.33     -0.48   \n",
      "27837        22500.00                 27.70       0.82     -0.09   \n",
      "27838        22500.00                 27.70       2.49      0.40   \n",
      "\n",
      "       Log - Normalized  Difficulty Coefficient  Diff_coeff_filtering  \\\n",
      "0                  0.61                    0.31                  0.01   \n",
      "1                  0.25                    0.42                  0.21   \n",
      "2                  0.45                    0.49                  0.39   \n",
      "3                  0.61                    0.89                  0.01   \n",
      "4                  0.87                    0.75                  0.35   \n",
      "...                 ...                     ...                   ...   \n",
      "27834             -0.48                    0.59                  0.40   \n",
      "27835             -0.09                    0.34                  0.21   \n",
      "27836             -0.48                    0.14                  0.31   \n",
      "27837             -0.09                    0.82                  0.34   \n",
      "27838              0.40                    0.85                  0.73   \n",
      "\n",
      "       nd_LogRatio  nnd_LogRatio  \n",
      "0        -0.613959      0.094558  \n",
      "1        -0.245982      0.151976  \n",
      "2        -0.454258      0.125030  \n",
      "3        -0.613959     -0.261454  \n",
      "4        -0.869232     -0.133136  \n",
      "...            ...           ...  \n",
      "27834     0.481016      0.237099  \n",
      "27835     0.085011     -0.005205  \n",
      "27836     0.481016      0.185756  \n",
      "27837     0.085011     -0.056548  \n",
      "27838    -0.396006     -0.242304  \n",
      "\n",
      "[27839 rows x 14 columns]\n"
     ]
    }
   ],
   "source": [
    "new_table = pandas.DataFrame(data = data, columns=columns)\n",
    "print(new_table)"
   ]
  },
  {
   "cell_type": "code",
   "execution_count": 52,
   "metadata": {},
   "outputs": [],
   "source": [
    "# additional processing for backward compatibility\n",
    "def diff_coef(i, x, y):\n",
    "    try:\n",
    "        if (x > 0 and y >= 0) or (x < 0 and y <= 0):\n",
    "            k = math.atan(y/x)\n",
    "        elif (x < 0 and y >= 0) or (x > 0 and y <= 0):\n",
    "            k = math.pi - abs(math.atan(y/x))\n",
    "        a = math.degrees(abs((math.pi/4)-k))\n",
    "    except:\n",
    "        return -1\n",
    "    return a\n",
    "\n",
    "#i think it's wrong normalizing and making decisions on normalized values,\n",
    "#adding new trials can change the whole feature space, we are losing coherency with respect to Learning to Focus on Numbers\n",
    "new_table[\"Log - Normalized\"] = round(new_table[\"Log - Normalized\"]/new_table[\"Log - Normalized\"].max(),2).abs()\n",
    "new_table[\"Difficulty Coefficient\"] = round(1- new_table[\"Log - Normalized\"],2)\n",
    "\n",
    "max_nd = new_table['nd_LogRatio'].abs().max()\n",
    "max_nnd = new_table['nnd_LogRatio'].abs().max()\n",
    "\n",
    "filtering_diff = []\n",
    "for i, row in new_table.iterrows():\n",
    "    filtering_diff.append(diff_coef(i,row[\"nd_LogRatio\"]/max_nd, row[\"nnd_LogRatio\"]/max_nnd))\n",
    "\n",
    "new_table[\"Diff_coeff_filtering\"] = filtering_diff\n",
    "new_table[\"Diff_coeff_filtering\"] = new_table[\"Diff_coeff_filtering\"]/new_table[\"Diff_coeff_filtering\"].max()\n",
    "\n",
    "\n"
   ]
  },
  {
   "cell_type": "code",
   "execution_count": 53,
   "metadata": {},
   "outputs": [],
   "source": [
    "import os\n",
    "if os.path.exists(\"lookup_table.csv\"):\n",
    "    os.remove(\"lookup_table.csv\")\n",
    "new_table.to_csv(\"./lookup_table.csv\")"
   ]
  },
  {
   "cell_type": "markdown",
   "metadata": {},
   "source": [
    "# Some analysis"
   ]
  },
  {
   "cell_type": "code",
   "execution_count": 9,
   "metadata": {},
   "outputs": [
    {
     "name": "stdout",
     "output_type": "stream",
     "text": [
      "-2.004321373782642\n",
      "2.049218022670181\n",
      "-0.8816194191065028\n",
      "0.8542775057372487\n"
     ]
    }
   ],
   "source": [
    "import pandas\n",
    "lookup_table = pandas.read_csv(\"./lookup_table.csv\")\n",
    "\n",
    "print(lookup_table['nd_LogRatio'].min())\n",
    "print(lookup_table['nd_LogRatio'].max())\n",
    "print(lookup_table['nnd_LogRatio'].min())\n",
    "print(lookup_table['nnd_LogRatio'].max())\n",
    "#highest = lookup_table.iloc((lookup_table['nd_LogRatio']).abs().argsort()[:1])"
   ]
  },
  {
   "cell_type": "code",
   "execution_count": 10,
   "metadata": {},
   "outputs": [
    {
     "name": "stdout",
     "output_type": "stream",
     "text": [
      "True\n",
      "4876\n",
      "4158\n"
     ]
    }
   ],
   "source": [
    "okay = False\n",
    "count = 0\n",
    "count_two=0\n",
    "for row in lookup_table.iterrows():\n",
    "    row=row[1]\n",
    "    if row[\"nd_LogRatio\"] >0 and row[\"nnd_LogRatio\"]<0:\n",
    "        #print(row)\n",
    "        okay = True\n",
    "        #assert False == True\n",
    "        count+=1\n",
    "    if row[\"nd_LogRatio\"] <0 and row[\"nnd_LogRatio\"]>0:\n",
    "        count_two +=1\n",
    "\n",
    "print(okay)\n",
    "print(count)\n",
    "print(count_two)"
   ]
  },
  {
   "cell_type": "code",
   "execution_count": 11,
   "metadata": {},
   "outputs": [],
   "source": [
    "max_nd = lookup_table['nd_LogRatio'].abs().max()\n",
    "max_nnd = lookup_table['nnd_LogRatio'].abs().max()\n",
    "\n",
    "lookup_table['nd_LogRatio'] = lookup_table['nd_LogRatio'].abs()/max_nd\n",
    "lookup_table['nnd_LogRatio'] = lookup_table['nnd_LogRatio'].abs()/max_nnd"
   ]
  },
  {
   "cell_type": "code",
   "execution_count": 12,
   "metadata": {},
   "outputs": [],
   "source": [
    "import matplotlib.pyplot as plt\n",
    "import numpy as np\n",
    "def myHistogram(data: np.ndarray,n_labels:int,labels:np.ndarray, bins: int=20):\n",
    "    colors = [\"red\", \"green\", \"blue\",\"orange\" , \"gray\", \"orange\"]\n",
    "\n",
    "    for i in range(0,data.shape[0]):\n",
    "        for j in range(0,n_labels):\n",
    "            plt.hist(data[i, labels == j],bins=bins, density=True, color=colors[j],alpha=0.6, histtype='bar', rwidth=0.9)\n",
    "        plt.show()"
   ]
  },
  {
   "cell_type": "code",
   "execution_count": 13,
   "metadata": {},
   "outputs": [
    {
     "data": {
      "image/png": "[encoded data removed]",
      "text/plain": [
       "<Figure size 640x480 with 1 Axes>"
      ]
     },
     "metadata": {},
     "output_type": "display_data"
    }
   ],
   "source": [
    "nd_logratio = lookup_table[\"nd_LogRatio\"]\n",
    "nnd_logratio = lookup_table[\"nnd_LogRatio\"]\n",
    "\n",
    "nd =plt.hist(nd_logratio, color=\"red\", histtype='bar', alpha=0.6)\n",
    "nnd =plt.hist(nnd_logratio, color = \"green\",  histtype='bar', alpha=0.6)\n",
    "\n",
    "plt.legend([\"Numerical Dimension\", [\"Non Numerical Dimension\"]])\n",
    "\n",
    "plt.show()"
   ]
  },
  {
   "cell_type": "code",
   "execution_count": 3,
   "metadata": {},
   "outputs": [
    {
     "name": "stdout",
     "output_type": "stream",
     "text": [
      "11.309932474020208\n",
      "101.3099324740202\n"
     ]
    }
   ],
   "source": [
    "import pandas\n",
    "import math\n",
    "def diff_coeff(i, x, y):\n",
    "    \n",
    "    if (x > 0 and y >= 0) or (x < 0 and y <= 0):\n",
    "            k = math.atan(y/x)\n",
    "    elif (x < 0 and y >= 0) or (x > 0 and y <= 0):\n",
    "        k = math.pi - abs(math.atan(y/x))\n",
    "    a = math.degrees(abs((math.pi/4)-k))\n",
    "    \n",
    "    return a\n",
    "\n",
    "new_table = pandas.read_csv(\"./lookup_table.csv\")\n",
    "\n",
    "max_nd = new_table['nd_LogRatio'].abs().max()\n",
    "max_nnd = new_table['nnd_LogRatio'].abs().max()\n",
    "print(diff_coeff(1, 0.3, 0.2))\n",
    "print(diff_coeff(1, -0.3, 0.2))"
   ]
  }
 ],
 "metadata": {
  "kernelspec": {
   "display_name": "Python 3.10.1 64-bit",
   "language": "python",
   "name": "python3"
  },
  "language_info": {
   "codemirror_mode": {
    "name": "ipython",
    "version": 3
   },
   "file_extension": ".py",
   "mimetype": "text/x-python",
   "name": "python",
   "nbconvert_exporter": "python",
   "pygments_lexer": "ipython3",
   "version": "3.10.1"
  },
  "orig_nbformat": 4,
  "vscode": {
   "interpreter": {
    "hash": "cef666fe899b9fb0a0eef44b04aee0b96e2cf67f4acde4cc6010a5fee1e2a40c"
   }
  }
 },
 "nbformat": 4,
 "nbformat_minor": 2
}
