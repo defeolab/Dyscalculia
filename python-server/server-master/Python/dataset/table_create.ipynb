{
 "cells": [
  {
   "cell_type": "code",
   "execution_count": 15,
   "metadata": {},
   "outputs": [
    {
     "name": "stdout",
     "output_type": "stream",
     "text": [
      "   NumChickens FieldArea ItemSurfaceArea\n",
      "0           21      5625           19,24\n",
      "1           21   6944,44           19,24\n",
      "2           21   8402,78           19,24\n",
      "NumChickensFieldArea\n",
      "NumChickensItemSurfaceArea\n",
      "FieldAreaItemSurfaceArea\n"
     ]
    }
   ],
   "source": [
    "import pandas\n",
    "import itertools as it\n",
    "lookup_table = pandas.read_csv(\"./legacy/valid_values.csv\", sep = \";\")\n",
    "\n",
    "print(lookup_table[0:3])"
   ]
  },
  {
   "cell_type": "code",
   "execution_count": 24,
   "metadata": {},
   "outputs": [
    {
     "name": "stdout",
     "output_type": "stream",
     "text": [
      "0\n",
      "NumChickens           21\n",
      "FieldArea           5625\n",
      "ItemSurfaceArea    19,24\n",
      "Name: 0, dtype: object\n"
     ]
    }
   ],
   "source": [
    "lookup_table.reset_index()\n",
    "for i, data in lookup_table.iterrows():\n",
    "    if i > 0:\n",
    "        break\n",
    "    print(i)\n",
    "    print(data)\n",
    "    "
   ]
  },
  {
   "cell_type": "code",
   "execution_count": 53,
   "metadata": {},
   "outputs": [],
   "source": [
    "import random\n",
    "data = {}\n",
    "columns = [\"Unnamed\",\"NumLeft\",\"FieldAreaLeft\",\"ItemSurfaceAreaLeft\",\"NumRight\",\"FieldAreaRight\",\"ItemSurfaceAreaRight\",\"Ratio L/R\",\"LogRatio\",\"Log - Normalized\",\"Difficulty Coefficient\",\"Diff_coeff_filtering\"]\n",
    "\n",
    "for c in columns:\n",
    "    data[c] = []\n",
    "i=0\n",
    "for (ileft, dleft), (iright,dright) in it.combinations(lookup_table.iterrows(), 2):\n",
    "    data[\"Unnamed\"].append(i) \n",
    "    data[\"NumLeft\"].append(dleft[0])\n",
    "    data[\"FieldAreaLeft\"].append(float(dleft[1].replace(\",\", \".\")))\n",
    "    data[\"ItemSurfaceAreaLeft\"].append(float(dleft[2].replace(\",\", \".\")))\n",
    "    data[\"NumRight\"].append(dright[0])\n",
    "    data[\"FieldAreaRight\"].append(float(dright[1].replace(\",\", \".\")))\n",
    "    data[\"ItemSurfaceAreaRight\"].append(float(dright[2].replace(\",\", \".\")))\n",
    "    data[\"Ratio L/R\"].append(-1)\n",
    "    data[\"LogRatio\"].append(-1)\n",
    "    data[\"Log - Normalized\"].append(-1)\n",
    "    data[\"Difficulty Coefficient\"].append(random.uniform(0, 1))\n",
    "    data[\"Diff_coeff_filtering\"].append(random.uniform(0,1))"
   ]
  },
  {
   "cell_type": "code",
   "execution_count": 54,
   "metadata": {},
   "outputs": [
    {
     "name": "stdout",
     "output_type": "stream",
     "text": [
      "       Unnamed  NumLeft  FieldAreaLeft  ItemSurfaceAreaLeft  NumRight  \\\n",
      "0            0       21        5625.00                19.24        21   \n",
      "1            0       21        5625.00                19.24        21   \n",
      "2            0       21        5625.00                19.24        27   \n",
      "3            0       21        5625.00                19.24        37   \n",
      "4            0       21        5625.00                19.24        37   \n",
      "...        ...      ...            ...                  ...       ...   \n",
      "32635        0        9       30625.00               307.79         9   \n",
      "32636        0        9       30625.00               307.79         9   \n",
      "32637        0        9       33611.11               307.79         9   \n",
      "32638        0        9       33611.11               307.79         9   \n",
      "32639        0        9       36736.11               307.79         9   \n",
      "\n",
      "       FieldAreaRight  ItemSurfaceAreaRight  Ratio L/R  LogRatio  \\\n",
      "0             6944.44                 19.24         -1        -1   \n",
      "1             8402.78                 19.24         -1        -1   \n",
      "2            10000.00                 19.24         -1        -1   \n",
      "3            11736.11                 19.24         -1        -1   \n",
      "4            13611.11                 19.24         -1        -1   \n",
      "...               ...                   ...        ...       ...   \n",
      "32635        36736.11                307.79         -1        -1   \n",
      "32636        40000.00                307.79         -1        -1   \n",
      "32637        36736.11                307.79         -1        -1   \n",
      "32638        40000.00                307.79         -1        -1   \n",
      "32639        40000.00                307.79         -1        -1   \n",
      "\n",
      "       Log - Normalized  Difficulty Coefficient  Diff_coeff_filtering  \n",
      "0                    -1                0.170671              0.758505  \n",
      "1                    -1                0.208727              0.678190  \n",
      "2                    -1                0.736742              0.925300  \n",
      "3                    -1                0.528132              0.785129  \n",
      "4                    -1                0.037826              0.067930  \n",
      "...                 ...                     ...                   ...  \n",
      "32635                -1                0.667284              0.693727  \n",
      "32636                -1                0.288809              0.518371  \n",
      "32637                -1                0.713273              0.884776  \n",
      "32638                -1                0.615086              0.910329  \n",
      "32639                -1                0.694164              0.605691  \n",
      "\n",
      "[32640 rows x 12 columns]\n"
     ]
    }
   ],
   "source": [
    "new_table = pandas.DataFrame(data = data, columns=columns)\n",
    "print(new_table)"
   ]
  },
  {
   "cell_type": "code",
   "execution_count": 52,
   "metadata": {},
   "outputs": [],
   "source": [
    "import os\n",
    "if os.path.exists(\"lookup_table.csv\"):\n",
    "    os.remove(\"lookup_table.csv\")\n",
    "new_table.to_csv(\"./lookup_table.csv\")"
   ]
  }
 ],
 "metadata": {
  "kernelspec": {
   "display_name": "Python 3.10.1 64-bit",
   "language": "python",
   "name": "python3"
  },
  "language_info": {
   "codemirror_mode": {
    "name": "ipython",
    "version": 3
   },
   "file_extension": ".py",
   "mimetype": "text/x-python",
   "name": "python",
   "nbconvert_exporter": "python",
   "pygments_lexer": "ipython3",
   "version": "3.10.1"
  },
  "orig_nbformat": 4,
  "vscode": {
   "interpreter": {
    "hash": "cef666fe899b9fb0a0eef44b04aee0b96e2cf67f4acde4cc6010a5fee1e2a40c"
   }
  }
 },
 "nbformat": 4,
 "nbformat_minor": 2
}
