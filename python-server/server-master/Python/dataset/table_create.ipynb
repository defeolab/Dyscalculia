{
 "cells": [
  {
   "cell_type": "code",
   "execution_count": 9,
   "metadata": {},
   "outputs": [
    {
     "name": "stdout",
     "output_type": "stream",
     "text": [
      "   NumChickens FieldArea ItemSurfaceArea\n",
      "0           21      5625           19,24\n",
      "1           21   6944,44           19,24\n",
      "2           21   8402,78           19,24\n"
     ]
    }
   ],
   "source": [
    "import pandas\n",
    "import itertools as it\n",
    "lookup_table = pandas.read_csv(\"./legacy/valid_values.csv\", sep = \";\")\n",
    "\n",
    "print(lookup_table[0:3])"
   ]
  },
  {
   "cell_type": "code",
   "execution_count": 10,
   "metadata": {},
   "outputs": [
    {
     "name": "stdout",
     "output_type": "stream",
     "text": [
      "0\n",
      "NumChickens           21\n",
      "FieldArea           5625\n",
      "ItemSurfaceArea    19,24\n",
      "Name: 0, dtype: object\n"
     ]
    }
   ],
   "source": [
    "lookup_table.reset_index()\n",
    "for i, data in lookup_table.iterrows():\n",
    "    if i > 0:\n",
    "        break\n",
    "    print(i)\n",
    "    print(data)\n",
    "    "
   ]
  },
  {
   "cell_type": "code",
   "execution_count": 11,
   "metadata": {},
   "outputs": [],
   "source": [
    "from typing import Tuple, List\n",
    "import math\n",
    "import numpy as np\n",
    "def compute_canonical_parameters(n_chickens: int, field_area: float, chicken_size: float) -> Tuple[float, float, float, float]:\n",
    "    FA = (((0.006) * math.sqrt(field_area))**2)*math.pi\n",
    "    \n",
    "\n",
    "def compute_nd_nnd_coords(trial_left: List[float], trial_right: List[float]) -> Tuple[float, float]:\n",
    "    #formula specified by previous thesis writers\n",
    "    nnd_right = (0.577+0.467*trial_right[0])*(trial_right[1]/trial_right[0]) + (0.487+0.473*trial_right[0])*trial_right[2]\n",
    "    nnd_left = (0.577+0.467*trial_left[0])*(trial_left[1]/trial_left[0]) + (0.487+0.473*trial_left[0])*trial_left[2]\n",
    "\n",
    "    return np.log10(trial_right[0]/trial_left[0]), np.log10(nnd_right/nnd_left)"
   ]
  },
  {
   "cell_type": "code",
   "execution_count": 13,
   "metadata": {},
   "outputs": [],
   "source": [
    "import random\n",
    "data = {}\n",
    "columns = [\"Unnamed\",\"NumLeft\",\"FieldAreaLeft\",\"ItemSurfaceAreaLeft\",\"NumRight\",\"FieldAreaRight\",\"ItemSurfaceAreaRight\",\"Ratio L/R\",\"LogRatio\",\"Log - Normalized\",\"Difficulty Coefficient\",\"Diff_coeff_filtering\", \"nd_LogRatio\", \"nnd_LogRatio\"]\n",
    "\n",
    "for c in columns:\n",
    "    data[c] = []\n",
    "i=0\n",
    "for (ileft, dleft), (iright,dright) in it.combinations(lookup_table.sample(frac=1).iterrows(), 2):\n",
    "    if dleft[0] == dright[0]:\n",
    "        continue\n",
    "    fAreaLeft = float(dleft[1].replace(\",\", \".\"))\n",
    "    fAreaRight = float(dright[1].replace(\",\", \".\"))\n",
    "    iAreaLeft = float(dleft[2].replace(\",\", \".\"))\n",
    "    iAreaRight = float(dright[2].replace(\",\", \".\"))\n",
    "\n",
    "    data[\"Unnamed\"].append(i) \n",
    "    data[\"NumLeft\"].append(dleft[0])\n",
    "    data[\"FieldAreaLeft\"].append(fAreaLeft)\n",
    "    data[\"ItemSurfaceAreaLeft\"].append(iAreaLeft)\n",
    "    data[\"NumRight\"].append(dright[0])\n",
    "    data[\"FieldAreaRight\"].append(fAreaRight)\n",
    "    data[\"ItemSurfaceAreaRight\"].append(iAreaRight)\n",
    "    data[\"Ratio L/R\"].append(-1)\n",
    "    data[\"LogRatio\"].append(-1)\n",
    "    data[\"Log - Normalized\"].append(-1)\n",
    "    data[\"Difficulty Coefficient\"].append(round(random.uniform(0, 1), 2))\n",
    "    data[\"Diff_coeff_filtering\"].append(round(random.uniform(0,1), 2))\n",
    "\n",
    "    nd_logratio, nnd_logratio = compute_nd_nnd_coords([int(dleft[0]), fAreaLeft,iAreaLeft], [int(dright[0]), fAreaRight, iAreaRight])\n",
    "    data[\"nd_LogRatio\"].append(nd_logratio)\n",
    "    data[\"nnd_LogRatio\"].append(nnd_logratio)"
   ]
  },
  {
   "cell_type": "code",
   "execution_count": 15,
   "metadata": {},
   "outputs": [
    {
     "name": "stdout",
     "output_type": "stream",
     "text": [
      "       Unnamed  NumLeft  FieldAreaLeft  ItemSurfaceAreaLeft  NumRight  \\\n",
      "0            0       21       25069.44                93.11         9   \n",
      "1            0       21       25069.44                93.11        29   \n",
      "2            0       21       25069.44                93.11        13   \n",
      "3            0       21       25069.44                93.11         5   \n",
      "4            0       21       25069.44                93.11         9   \n",
      "...        ...      ...            ...                  ...       ...   \n",
      "27834        0       69       27777.78                19.24        81   \n",
      "27835        0       69       27777.78                19.24         9   \n",
      "27836        0       69       27777.78                19.24         9   \n",
      "27837        0       81       36736.11                27.70         9   \n",
      "27838        0       81       36736.11                27.70         9   \n",
      "\n",
      "       FieldAreaRight  ItemSurfaceAreaRight  Ratio L/R  LogRatio  \\\n",
      "0            20069.44                222.38         -1        -1   \n",
      "1            40000.00                110.80         -1        -1   \n",
      "2            27777.78                173.13         -1        -1   \n",
      "3            11736.11                249.31         -1        -1   \n",
      "4            33611.11                249.31         -1        -1   \n",
      "...               ...                   ...        ...       ...   \n",
      "27834        36736.11                 27.70         -1        -1   \n",
      "27835        22500.00                173.13         -1        -1   \n",
      "27836        13611.11                150.82         -1        -1   \n",
      "27837        22500.00                173.13         -1        -1   \n",
      "27838        13611.11                150.82         -1        -1   \n",
      "\n",
      "       Log - Normalized  Difficulty Coefficient  Diff_coeff_filtering  \\\n",
      "0                    -1                    0.64                  0.06   \n",
      "1                    -1                    0.63                  0.68   \n",
      "2                    -1                    0.76                  0.34   \n",
      "3                    -1                    0.24                  0.24   \n",
      "4                    -1                    0.02                  0.31   \n",
      "...                 ...                     ...                   ...   \n",
      "27834                -1                    0.05                  0.04   \n",
      "27835                -1                    0.68                  0.24   \n",
      "27836                -1                    0.96                  0.32   \n",
      "27837                -1                    0.40                  0.55   \n",
      "27838                -1                    0.91                  0.57   \n",
      "\n",
      "       nd_LogRatio  nnd_LogRatio  \n",
      "0        -0.367977     -0.057308  \n",
      "1         0.140179      0.197229  \n",
      "2        -0.208276      0.060206  \n",
      "3        -0.623249     -0.248291  \n",
      "4        -0.367977      0.153513  \n",
      "...            ...           ...  \n",
      "27834     0.069636      0.125796  \n",
      "27835    -0.884607     -0.034957  \n",
      "27836    -0.884607     -0.241126  \n",
      "27837    -0.954243     -0.160753  \n",
      "27838    -0.954243     -0.366922  \n",
      "\n",
      "[27839 rows x 14 columns]\n"
     ]
    }
   ],
   "source": [
    "new_table = pandas.DataFrame(data = data, columns=columns)\n",
    "print(new_table)"
   ]
  },
  {
   "cell_type": "code",
   "execution_count": 16,
   "metadata": {},
   "outputs": [],
   "source": [
    "import os\n",
    "if os.path.exists(\"lookup_table.csv\"):\n",
    "    os.remove(\"lookup_table.csv\")\n",
    "new_table.to_csv(\"./lookup_table.csv\")"
   ]
  },
  {
   "cell_type": "code",
   "execution_count": 17,
   "metadata": {},
   "outputs": [
    {
     "name": "stdout",
     "output_type": "stream",
     "text": [
      "-2.049218022670181\n",
      "2.049218022670181\n",
      "-0.8816194191065028\n",
      "0.8477214271186774\n"
     ]
    }
   ],
   "source": [
    "lookup_table = pandas.read_csv(\"./lookup_table.csv\")\n",
    "\n",
    "print(lookup_table['nd_LogRatio'].min())\n",
    "print(lookup_table['nd_LogRatio'].max())\n",
    "print(lookup_table['nnd_LogRatio'].min())\n",
    "print(lookup_table['nnd_LogRatio'].max())\n",
    "#highest = lookup_table.iloc((lookup_table['nd_LogRatio']).abs().argsort()[:1])"
   ]
  },
  {
   "cell_type": "code",
   "execution_count": 23,
   "metadata": {},
   "outputs": [
    {
     "name": "stdout",
     "output_type": "stream",
     "text": [
      "True\n",
      "5004\n",
      "4030\n"
     ]
    }
   ],
   "source": [
    "okay = False\n",
    "count = 0\n",
    "count_two=0\n",
    "for row in lookup_table.iterrows():\n",
    "    row=row[1]\n",
    "    if row[\"nd_LogRatio\"] >0 and row[\"nnd_LogRatio\"]<0:\n",
    "        #print(row)\n",
    "        okay = True\n",
    "        #assert False == True\n",
    "        count+=1\n",
    "    if row[\"nd_LogRatio\"] <0 and row[\"nnd_LogRatio\"]>0:\n",
    "        count_two +=1\n",
    "\n",
    "print(okay)\n",
    "print(count)\n",
    "print(count_two)"
   ]
  }
 ],
 "metadata": {
  "kernelspec": {
   "display_name": "Python 3.10.1 64-bit",
   "language": "python",
   "name": "python3"
  },
  "language_info": {
   "codemirror_mode": {
    "name": "ipython",
    "version": 3
   },
   "file_extension": ".py",
   "mimetype": "text/x-python",
   "name": "python",
   "nbconvert_exporter": "python",
   "pygments_lexer": "ipython3",
   "version": "3.10.1"
  },
  "orig_nbformat": 4,
  "vscode": {
   "interpreter": {
    "hash": "cef666fe899b9fb0a0eef44b04aee0b96e2cf67f4acde4cc6010a5fee1e2a40c"
   }
  }
 },
 "nbformat": 4,
 "nbformat_minor": 2
}
