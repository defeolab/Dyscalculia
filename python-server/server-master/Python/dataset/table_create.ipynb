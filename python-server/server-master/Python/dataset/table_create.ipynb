{
 "cells": [
  {
   "cell_type": "code",
   "execution_count": 1,
   "metadata": {},
   "outputs": [
    {
     "name": "stdout",
     "output_type": "stream",
     "text": [
      "   NumChickens FieldArea ItemSurfaceArea\n",
      "0           21      5625           19,24\n",
      "1           21   6944,44           19,24\n",
      "2           21   8402,78           19,24\n"
     ]
    }
   ],
   "source": [
    "import pandas\n",
    "import itertools as it\n",
    "lookup_table = pandas.read_csv(\"./legacy/valid_values.csv\", sep = \";\")\n",
    "\n",
    "print(lookup_table[0:3])"
   ]
  },
  {
   "cell_type": "code",
   "execution_count": 2,
   "metadata": {},
   "outputs": [
    {
     "name": "stdout",
     "output_type": "stream",
     "text": [
      "0\n",
      "NumChickens           21\n",
      "FieldArea           5625\n",
      "ItemSurfaceArea    19,24\n",
      "Name: 0, dtype: object\n"
     ]
    }
   ],
   "source": [
    "lookup_table.reset_index()\n",
    "for i, data in lookup_table.iterrows():\n",
    "    if i > 0:\n",
    "        break\n",
    "    print(i)\n",
    "    print(data)\n",
    "    "
   ]
  },
  {
   "cell_type": "code",
   "execution_count": 10,
   "metadata": {},
   "outputs": [],
   "source": [
    "from typing import Tuple, List\n",
    "import math\n",
    "import numpy as np\n",
    "def compute_canonical_parameters(n_chickens: int, field_area: float, chicken_size: float) -> Tuple[float, float, float, float]:\n",
    "    FA = (((0.006) * math.sqrt(field_area))**2)*math.pi\n",
    "    \n",
    "\n",
    "def compute_nd_nnd_coords(trial_left: List[float], trial_right: List[float]) -> Tuple[float, float]:\n",
    "    #formula specified by previous thesis writers\n",
    "    nnd_right = (0.577+0.467*trial_right[0])*(trial_right[1]/trial_right[0]) + (0.487+0.473*trial_right[0])*trial_right[2]\n",
    "    nnd_left = (0.577+0.467*trial_left[0])*(trial_left[1]/trial_left[0]) + (0.487+0.473*trial_left[0])*trial_left[2]\n",
    "\n",
    "    return np.log10(trial_right[0]/trial_left[0]), np.log10(nnd_right/nnd_left)"
   ]
  },
  {
   "cell_type": "code",
   "execution_count": 15,
   "metadata": {},
   "outputs": [],
   "source": [
    "import random\n",
    "data = {}\n",
    "columns = [\"Unnamed\",\"NumLeft\",\"FieldAreaLeft\",\"ItemSurfaceAreaLeft\",\"NumRight\",\"FieldAreaRight\",\"ItemSurfaceAreaRight\",\"Ratio L/R\",\"LogRatio\",\"Log - Normalized\",\"Difficulty Coefficient\",\"Diff_coeff_filtering\", \"nd_LogRatio\", \"nnd_LogRatio\"]\n",
    "\n",
    "for c in columns:\n",
    "    data[c] = []\n",
    "i=0\n",
    "for (ileft, dleft), (iright,dright) in it.combinations(lookup_table.iterrows(), 2):\n",
    "    if dleft[0] == dright[0]:\n",
    "        continue\n",
    "    fAreaLeft = float(dleft[1].replace(\",\", \".\"))\n",
    "    fAreaRight = float(dright[1].replace(\",\", \".\"))\n",
    "    iAreaLeft = float(dleft[2].replace(\",\", \".\"))\n",
    "    iAreaRight = float(dright[2].replace(\",\", \".\"))\n",
    "\n",
    "    data[\"Unnamed\"].append(i) \n",
    "    data[\"NumLeft\"].append(dleft[0])\n",
    "    data[\"FieldAreaLeft\"].append(fAreaLeft)\n",
    "    data[\"ItemSurfaceAreaLeft\"].append(iAreaLeft)\n",
    "    data[\"NumRight\"].append(dright[0])\n",
    "    data[\"FieldAreaRight\"].append(fAreaRight)\n",
    "    data[\"ItemSurfaceAreaRight\"].append(iAreaRight)\n",
    "    data[\"Ratio L/R\"].append(-1)\n",
    "    data[\"LogRatio\"].append(-1)\n",
    "    data[\"Log - Normalized\"].append(-1)\n",
    "    data[\"Difficulty Coefficient\"].append(round(random.uniform(0, 1), 2))\n",
    "    data[\"Diff_coeff_filtering\"].append(round(random.uniform(0,1), 2))\n",
    "\n",
    "    nd_logratio, nnd_logratio = compute_nd_nnd_coords([int(dleft[0]), fAreaLeft,iAreaLeft], [int(dright[0]), fAreaRight, iAreaRight])\n",
    "    data[\"nd_LogRatio\"].append(nd_logratio)\n",
    "    data[\"nnd_LogRatio\"].append(nnd_logratio)"
   ]
  },
  {
   "cell_type": "code",
   "execution_count": 16,
   "metadata": {},
   "outputs": [
    {
     "name": "stdout",
     "output_type": "stream",
     "text": [
      "       Unnamed  NumLeft  FieldAreaLeft  ItemSurfaceAreaLeft  NumRight  \\\n",
      "0            0       21        5625.00                19.24        27   \n",
      "1            0       21        5625.00                19.24        37   \n",
      "2            0       21        5625.00                19.24        37   \n",
      "3            0       21        5625.00                19.24        45   \n",
      "4            0       21        5625.00                19.24        48   \n",
      "...        ...      ...            ...                  ...       ...   \n",
      "27834        0        5       20069.44               307.79         9   \n",
      "27835        0        5       20069.44               307.79         9   \n",
      "27836        0        5       20069.44               307.79         9   \n",
      "27837        0        5       20069.44               307.79         9   \n",
      "27838        0        5       20069.44               307.79         9   \n",
      "\n",
      "       FieldAreaRight  ItemSurfaceAreaRight  Ratio L/R  LogRatio  \\\n",
      "0            10000.00                 19.24         -1        -1   \n",
      "1            11736.11                 19.24         -1        -1   \n",
      "2            13611.11                 19.24         -1        -1   \n",
      "3            15625.00                 19.24         -1        -1   \n",
      "4            17777.78                 19.24         -1        -1   \n",
      "...               ...                   ...        ...       ...   \n",
      "27834        27777.78                307.79         -1        -1   \n",
      "27835        30625.00                307.79         -1        -1   \n",
      "27836        33611.11                307.79         -1        -1   \n",
      "27837        36736.11                307.79         -1        -1   \n",
      "27838        40000.00                307.79         -1        -1   \n",
      "\n",
      "       Log - Normalized  Difficulty Coefficient  Diff_coeff_filtering  \\\n",
      "0                    -1                    0.26                  0.72   \n",
      "1                    -1                    0.77                  0.67   \n",
      "2                    -1                    0.16                  0.05   \n",
      "3                    -1                    0.82                  0.55   \n",
      "4                    -1                    0.34                  0.66   \n",
      "...                 ...                     ...                   ...   \n",
      "27834                -1                    0.04                  0.47   \n",
      "27835                -1                    0.01                  0.43   \n",
      "27836                -1                    0.10                  0.47   \n",
      "27837                -1                    0.78                  0.85   \n",
      "27838                -1                    0.88                  0.65   \n",
      "\n",
      "       nd_LogRatio  nnd_LogRatio  \n",
      "0         0.109144      0.236366  \n",
      "1         0.245982      0.304371  \n",
      "2         0.245982      0.365281  \n",
      "3         0.330993      0.424018  \n",
      "4         0.359022      0.477916  \n",
      "...            ...           ...  \n",
      "27834     0.255273      0.110664  \n",
      "27835     0.255273      0.149391  \n",
      "27836     0.255273      0.186608  \n",
      "27837     0.255273      0.222415  \n",
      "27838     0.255273      0.256908  \n",
      "\n",
      "[27839 rows x 14 columns]\n"
     ]
    }
   ],
   "source": [
    "new_table = pandas.DataFrame(data = data, columns=columns)\n",
    "print(new_table)"
   ]
  },
  {
   "cell_type": "code",
   "execution_count": 14,
   "metadata": {},
   "outputs": [],
   "source": [
    "import os\n",
    "if os.path.exists(\"lookup_table.csv\"):\n",
    "    os.remove(\"lookup_table.csv\")\n",
    "new_table.to_csv(\"./lookup_table.csv\")"
   ]
  },
  {
   "cell_type": "code",
   "execution_count": 10,
   "metadata": {},
   "outputs": [
    {
     "name": "stdout",
     "output_type": "stream",
     "text": [
      "-2.049218022670181\n",
      "1.462397997898956\n",
      "-0.8051710828902001\n",
      "0.8816194191065028\n"
     ]
    }
   ],
   "source": [
    "lookup_table = pandas.read_csv(\"./lookup_table.csv\")\n",
    "\n",
    "print(lookup_table['nd_LogRatio'].min())\n",
    "print(lookup_table['nd_LogRatio'].max())\n",
    "print(lookup_table['nnd_LogRatio'].min())\n",
    "print(lookup_table['nnd_LogRatio'].max())\n",
    "#highest = lookup_table.iloc((lookup_table['nd_LogRatio']).abs().argsort()[:1])"
   ]
  },
  {
   "cell_type": "code",
   "execution_count": 11,
   "metadata": {},
   "outputs": [
    {
     "name": "stdout",
     "output_type": "stream",
     "text": [
      "-57.29577951308232\n",
      "57.29577951308232\n"
     ]
    }
   ],
   "source": [
    "import math\n",
    "print(math.degrees(-1))\n",
    "print(math.degrees(1))"
   ]
  }
 ],
 "metadata": {
  "kernelspec": {
   "display_name": "Python 3.10.1 64-bit",
   "language": "python",
   "name": "python3"
  },
  "language_info": {
   "codemirror_mode": {
    "name": "ipython",
    "version": 3
   },
   "file_extension": ".py",
   "mimetype": "text/x-python",
   "name": "python",
   "nbconvert_exporter": "python",
   "pygments_lexer": "ipython3",
   "version": "3.10.1"
  },
  "orig_nbformat": 4,
  "vscode": {
   "interpreter": {
    "hash": "cef666fe899b9fb0a0eef44b04aee0b96e2cf67f4acde4cc6010a5fee1e2a40c"
   }
  }
 },
 "nbformat": 4,
 "nbformat_minor": 2
}
